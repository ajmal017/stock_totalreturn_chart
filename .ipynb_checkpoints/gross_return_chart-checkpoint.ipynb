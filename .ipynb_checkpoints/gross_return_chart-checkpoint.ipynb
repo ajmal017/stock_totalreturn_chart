{
 "cells": [
  {
   "cell_type": "code",
   "execution_count": 1,
   "metadata": {},
   "outputs": [],
   "source": [
    "import pandas as pd\n",
    "from datetime import datetime"
   ]
  },
  {
   "cell_type": "markdown",
   "metadata": {},
   "source": [
    "# Crawl data from yahoo finance"
   ]
  },
  {
   "cell_type": "code",
   "execution_count": 2,
   "metadata": {},
   "outputs": [],
   "source": [
    "def getCrumb(ticker):\n",
    "    URL  = \"https://finance.yahoo.com/quote/%s/history\" % ticker\n",
    "    import requests \n",
    "    import re\n",
    "    r = requests.get(url = URL) \n",
    "    content = str(r.content)\n",
    "    r1 = re.findall(r\"CrumbStore\\\":\\{\\\"crumb\\\":\\\"[A-Za-z0-9.\\\\\\-]+\\\"\",content)[0]\n",
    "    crumb = r1.replace(\"CrumbStore\\\":{\\\"crumb\\\":\\\"\",\"\").replace('\"',\"\")\n",
    "    return crumb,r.cookies\n",
    "\n",
    "\n",
    "def get_data(symbol, data_type, start_date , end_date):\n",
    "    import requests \n",
    "    import re\n",
    "    from io import StringIO\n",
    "    import os\n",
    "    import os.path\n",
    "    \n",
    "    directory = \"data\"\n",
    "    filename = directory+\"/\"+symbol+\"_\"+data_type\n",
    "    if not os.path.exists(directory):\n",
    "        os.makedirs(directory)\n",
    "    \n",
    "    #check cache\n",
    "    last_saved = 86401\n",
    "    if os.path.isfile(filename):\n",
    "        statbuf = os.stat(filename)\n",
    "        last_saved = datetime.now().timestamp() - statbuf.st_mtime\n",
    "         \n",
    "    if(last_saved>(86400)):\n",
    "        #crawl\n",
    "        api_url = \"https://query1.finance.yahoo.com/v7/finance/download/{0}?period1={1}&period2={2}&interval={3}&events={4}&crumb={5}\"\n",
    "        (crumb, cookies)=getCrumb(symbol)\n",
    "        api_url = api_url.format(symbol,0,datetime.now().strftime('%s'),\"1d\", data_type, crumb)\n",
    "        r = requests.get(url = api_url, cookies = cookies.get_dict(\".yahoo.com\"))  \n",
    "        content = str(r.content).replace(\",\",'\",\"').replace(\"\\\\n\",'\"\\r\\n\"').replace(\"b\\'\",\"\").replace(\"'\",\"\")\n",
    "        res = '\"'+content+'\"'\n",
    "        \n",
    "        #save\n",
    "        text_file = open(filename, \"w\")\n",
    "        n = text_file.write(r.content.decode('utf-8'))\n",
    "        text_file.close()\n",
    "    \n",
    "    #load\n",
    "    df = pd.read_csv(filename)\n",
    "    df[\"Date\"]=pd.to_datetime(df['Date'])\n",
    "    df = df[df[\"Date\"]>=start_date][df[\"Date\"]<=end_date]\n",
    "    return df  \n",
    "\n",
    "def get_price_data(stock, start_date, end_date):\n",
    "    print(\"Getting price data ...\")\n",
    "    price = get_data(stock,\"history\", start_date, end_date)\n",
    "    price.rename(columns={'Date':'date','Open':'open','High':'high',\n",
    "                          'Low':'low','Close':'close','Adj Close':'adjClose','Volume':'vol'}, inplace=True)\n",
    "    price[\"date\"]=pd.to_datetime(price['date'])\n",
    "    price = price.set_index([\"date\"])\n",
    "    return price\n",
    "def get_dividend_data(stock, start_date, end_date):\n",
    "    print(\"Getting dividend data ...\")\n",
    "    dividend = get_data(stock,\"div\", start_date, end_date)\n",
    "    dividend.rename(columns={'Date':'date','Dividends':'dividend'}, inplace=True)\n",
    "    dividend[\"date\"]=pd.to_datetime(dividend['date'])\n",
    "    dividend = dividend.set_index([\"date\"])\n",
    "    return dividend"
   ]
  },
  {
   "cell_type": "markdown",
   "metadata": {},
   "source": [
    "# Calculate returns"
   ]
  },
  {
   "cell_type": "code",
   "execution_count": 76,
   "metadata": {},
   "outputs": [],
   "source": [
    "from datetime import timedelta, date\n",
    "def calculate_profit(price, dividend, init_amt = 10000, fee = 0, monthly_topup = 0):\n",
    "    print(\"Calculating returns ...\")\n",
    "    data = pd.DataFrame([]) \n",
    "    price = price.dropna()\n",
    "    dividend = dividend.dropna()\n",
    "    init_close = -1\n",
    "    total_spend = init_amt\n",
    "    amount = init_amt\n",
    "    shares = 0\n",
    "    curDate = price.index.min()\n",
    "    last_close = 0\n",
    "    last_open = 0\n",
    "    pre_date = None\n",
    "    mnthly_topup = monthly_topup * 1\n",
    "    MA1 = -1\n",
    "    MA2 = -1\n",
    "    while True:\n",
    "        curDiv = 0\n",
    "        \n",
    "        if(curDate in price.index):\n",
    "            #calculate monthly top up fund\n",
    "            if(pre_date is not None and pre_date.month != curDate.month):\n",
    "                amount = amount + mnthly_topup\n",
    "                total_spend = total_spend + mnthly_topup\n",
    "            pre_date = curDate\n",
    "            curRec = price.loc[[curDate]]\n",
    "            curOpen = float(curRec[\"open\"].values[0])\n",
    "            curClose = float(curRec[\"close\"].values[0])\n",
    "            last_open = curOpen\n",
    "            last_close = curClose\n",
    "            if(init_close==-1):\n",
    "                init_close = last_close\n",
    "            \n",
    "            #calculate MA\n",
    "            MA1_days = 26\n",
    "            MA2_days = 100\n",
    "            if(len(data)>MA1_days):\n",
    "                close = data[\"Close\"][-MA1_days+1:].values\n",
    "                MA1 = (close.sum()+curClose)/(len(close)+1)\n",
    "            if(len(data)>MA2_days):\n",
    "                close = data[\"Close\"][-MA2_days+1:].values\n",
    "                MA2 = (close.sum()+curClose)/(len(close)+1)\n",
    "                \n",
    "            if(amount>0):\n",
    "                #buy shares\n",
    "                share_can_buy = (int)(amount/(curOpen*(1+fee)))\n",
    "                amount = amount - share_can_buy*(curOpen*(1+fee))\n",
    "                shares = shares + share_can_buy\n",
    "                \n",
    "        #calculate dividend payout\n",
    "        if(curDate in dividend.index):\n",
    "            curDiv = dividend.loc[[curDate]][\"dividend\"].values[0]\n",
    "            amount = amount + (shares*float(curDiv))\n",
    "        if(curDate == price.index.max()):\n",
    "            break\n",
    "        share_amt = shares*curClose\n",
    "        gross =  share_amt + amount\n",
    "        \n",
    "        #calculate close Pct\n",
    "        if(init_close==0):\n",
    "            closePct =0 \n",
    "        else:\n",
    "            closePct = round(((curClose-init_close)/init_close)*100,2)\n",
    "        #calculate Net Pct\n",
    "        net = round((gross-total_spend),2)\n",
    "        if(total_spend==0):\n",
    "            netPct=0\n",
    "        else:\n",
    "            netPct = round(((gross-total_spend)/total_spend)*100,2)\n",
    "        \n",
    "        data = data.append({'Date' : curDate ,\n",
    "                            'Spent': round(total_spend,2),\n",
    "                            'Gross' : round(gross,2),\n",
    "                            'Dividend': curDiv,\n",
    "                            'Close': curClose,\n",
    "                            'ClosePct': closePct,\n",
    "                            'Net' :  net,\n",
    "                            'NetPct' :  netPct,\n",
    "                            'Cash' :  amount,\n",
    "                            'Share': share_amt,\n",
    "                            'MA1' :  MA1,\n",
    "                            'MA2' :  MA2\n",
    "                           } , ignore_index=True)\n",
    "        if(MA1<MA2):\n",
    "            mnthly_topup = monthly_topup * 2\n",
    "        else:\n",
    "            mnthly_topup = monthly_topup * 1\n",
    "        curDate = curDate + timedelta(days=1)\n",
    "    return data"
   ]
  },
  {
   "cell_type": "markdown",
   "metadata": {},
   "source": [
    "# Plot line chart"
   ]
  },
  {
   "cell_type": "code",
   "execution_count": 18,
   "metadata": {},
   "outputs": [],
   "source": [
    "def plot_chart(data, height, width):\n",
    "    print(\"Ploting chart ...\")\n",
    "    import plotly.graph_objs as go \n",
    "    from datetime import datetime\n",
    "    from ipywidgets import interact, interactive, fixed, interact_manual\n",
    "    import ipywidgets as widgets\n",
    "    from plotly.subplots import make_subplots\n",
    "    df = data\n",
    "    df = df.sort_index(ascending=True)\n",
    "    fig = go.FigureWidget(make_subplots(rows=1, specs=[[{\"secondary_y\": True}]]))\n",
    "    \n",
    "    \n",
    "    \n",
    "    for col in data.columns:\n",
    "        if(\"Dividend\" in col):\n",
    "            fig.add_trace(\n",
    "                go.Scattergl(x=list(df[df[col]>0].index), y=list(df[df[col]>0][col]),\n",
    "                name = col, marker=dict(color=\"green\", size=2), line = dict(color='grey', width=1, dash='dash')),\n",
    "                row=1, col=1,\n",
    "                secondary_y=True\n",
    "            )\n",
    "        else:\n",
    "            fig.add_trace(\n",
    "                go.Scattergl(x=list(df.index), y=list(df[col]),\n",
    "                name = col),\n",
    "                row=1, col=1\n",
    "            )\n",
    "            \n",
    "    \n",
    "    df[\"const\"] = 0\n",
    "    \n",
    "    fig.add_trace(\n",
    "            go.Scattergl(x=list(df.index), y=list(df[\"const\"]), line = dict(color='grey', width=1, dash='dash'),\n",
    "            name = \"zero\"),\n",
    "            row=1, col=1\n",
    "    )\n",
    "    fig.layout.xaxis=dict(\n",
    "            anchor='x',\n",
    "            rangeselector=dict(\n",
    "                buttons=list([\n",
    "                    dict(count=1,\n",
    "                         label='1m',\n",
    "                         step='month',\n",
    "                         stepmode='backward'),\n",
    "                    dict(count=6,\n",
    "                         label='6m',\n",
    "                         step='month',\n",
    "                         stepmode='backward'),\n",
    "                    dict(count=1,\n",
    "                        label='YTD',\n",
    "                        step='year',\n",
    "                        stepmode='todate'),\n",
    "                    dict(count=1,\n",
    "                        label='1y',\n",
    "                        step='year',\n",
    "                        stepmode='backward'),\n",
    "                    dict(step='all')\n",
    "                ])\n",
    "            ),\n",
    "            type='date'\n",
    "        )\n",
    "    fig['layout'].update(height=height, width=width) \n",
    "    return fig"
   ]
  },
  {
   "cell_type": "code",
   "execution_count": 45,
   "metadata": {},
   "outputs": [],
   "source": [
    "def main(stocks, start_date = datetime.now() - timedelta(days=365*2.5), end_date = datetime.now(),\n",
    "              cols = ['Spent', 'Gross',  'Dividend', 'Close', 'ClosePct','NetPct']):\n",
    "    data = None\n",
    "    columns = []\n",
    "    for stock in stocks:\n",
    "        print(\"Working on {0} ...\".format(stock))\n",
    "        if(len(stocks)>1):\n",
    "            for col in cols:\n",
    "                columns.append(stock+'_'+col)\n",
    "        \n",
    "        init_amt = 1000\n",
    "        fee = 0.01  #1%\n",
    "        monthly_topup = 1000\n",
    "        price_data = get_price_data(stock, start_date, end_date)\n",
    "        dividend_data = get_dividend_data(stock, start_date, end_date)\n",
    "        returns = calculate_profit(price_data, dividend_data, init_amt, fee, monthly_topup)\n",
    "        returns = returns.set_index('Date')\n",
    "        if(len(stocks)>1):\n",
    "            returns = returns.add_prefix(stock+'_')\n",
    "        if(data is None):\n",
    "            data = returns\n",
    "        else:\n",
    "            data = data.join(returns)\n",
    "    if(len(stocks)==1):\n",
    "        columns = cols\n",
    "    return plot_chart(data[columns], 500, 900)"
   ]
  },
  {
   "cell_type": "code",
   "execution_count": 77,
   "metadata": {
    "scrolled": false
   },
   "outputs": [
    {
     "name": "stdout",
     "output_type": "stream",
     "text": [
      "Working on D05.SI ...\n",
      "Getting price data ...\n",
      "Getting dividend data ...\n",
      "Calculating returns ...\n"
     ]
    },
    {
     "name": "stderr",
     "output_type": "stream",
     "text": [
      "/home/ysj/.local/lib/python3.6/site-packages/ipykernel_launcher.py:47: UserWarning:\n",
      "\n",
      "Boolean Series key will be reindexed to match DataFrame index.\n",
      "\n"
     ]
    },
    {
     "ename": "TypeError",
     "evalue": "'<' not supported between instances of 'NoneType' and 'NoneType'",
     "output_type": "error",
     "traceback": [
      "\u001b[0;31m---------------------------------------------------------------------------\u001b[0m",
      "\u001b[0;31mTypeError\u001b[0m                                 Traceback (most recent call last)",
      "\u001b[0;32m<ipython-input-77-1e894e19d797>\u001b[0m in \u001b[0;36m<module>\u001b[0;34m\u001b[0m\n\u001b[1;32m      8\u001b[0m      \u001b[0;31m#end_date = datetime(2021,1,1),\u001b[0m\u001b[0;34m\u001b[0m\u001b[0;34m\u001b[0m\u001b[0;34m\u001b[0m\u001b[0m\n\u001b[1;32m      9\u001b[0m      \u001b[0;31m#cols = [\"ClosePct\", \"NetPct\",  'Dividend']\u001b[0m\u001b[0;34m\u001b[0m\u001b[0;34m\u001b[0m\u001b[0;34m\u001b[0m\u001b[0m\n\u001b[0;32m---> 10\u001b[0;31m      \u001b[0mcols\u001b[0m \u001b[0;34m=\u001b[0m \u001b[0;34m[\u001b[0m\u001b[0;34m'Net'\u001b[0m\u001b[0;34m,\u001b[0m \u001b[0;34m'Spent'\u001b[0m\u001b[0;34m,\u001b[0m \u001b[0;34m'Gross'\u001b[0m\u001b[0;34m,\u001b[0m\u001b[0;34m'Cash'\u001b[0m\u001b[0;34m,\u001b[0m \u001b[0;34m'Share'\u001b[0m\u001b[0;34m,\u001b[0m \u001b[0;34m'Dividend'\u001b[0m\u001b[0;34m,\u001b[0m \u001b[0;34m'Close'\u001b[0m\u001b[0;34m,\u001b[0m \u001b[0;34m'ClosePct'\u001b[0m\u001b[0;34m,\u001b[0m\u001b[0;34m'NetPct'\u001b[0m\u001b[0;34m,\u001b[0m\u001b[0;34m'MA1'\u001b[0m\u001b[0;34m,\u001b[0m \u001b[0;34m'MA2'\u001b[0m\u001b[0;34m]\u001b[0m\u001b[0;34m\u001b[0m\u001b[0;34m\u001b[0m\u001b[0m\n\u001b[0m\u001b[1;32m     11\u001b[0m     )\n\u001b[1;32m     12\u001b[0m \u001b[0;34m\u001b[0m\u001b[0m\n",
      "\u001b[0;32m<ipython-input-45-aacf26dc1157>\u001b[0m in \u001b[0;36mmain\u001b[0;34m(stocks, start_date, end_date, cols)\u001b[0m\n\u001b[1;32m     14\u001b[0m         \u001b[0mprice_data\u001b[0m \u001b[0;34m=\u001b[0m \u001b[0mget_price_data\u001b[0m\u001b[0;34m(\u001b[0m\u001b[0mstock\u001b[0m\u001b[0;34m,\u001b[0m \u001b[0mstart_date\u001b[0m\u001b[0;34m,\u001b[0m \u001b[0mend_date\u001b[0m\u001b[0;34m)\u001b[0m\u001b[0;34m\u001b[0m\u001b[0;34m\u001b[0m\u001b[0m\n\u001b[1;32m     15\u001b[0m         \u001b[0mdividend_data\u001b[0m \u001b[0;34m=\u001b[0m \u001b[0mget_dividend_data\u001b[0m\u001b[0;34m(\u001b[0m\u001b[0mstock\u001b[0m\u001b[0;34m,\u001b[0m \u001b[0mstart_date\u001b[0m\u001b[0;34m,\u001b[0m \u001b[0mend_date\u001b[0m\u001b[0;34m)\u001b[0m\u001b[0;34m\u001b[0m\u001b[0;34m\u001b[0m\u001b[0m\n\u001b[0;32m---> 16\u001b[0;31m         \u001b[0mreturns\u001b[0m \u001b[0;34m=\u001b[0m \u001b[0mcalculate_profit\u001b[0m\u001b[0;34m(\u001b[0m\u001b[0mprice_data\u001b[0m\u001b[0;34m,\u001b[0m \u001b[0mdividend_data\u001b[0m\u001b[0;34m,\u001b[0m \u001b[0minit_amt\u001b[0m\u001b[0;34m,\u001b[0m \u001b[0mfee\u001b[0m\u001b[0;34m,\u001b[0m \u001b[0mmonthly_topup\u001b[0m\u001b[0;34m)\u001b[0m\u001b[0;34m\u001b[0m\u001b[0;34m\u001b[0m\u001b[0m\n\u001b[0m\u001b[1;32m     17\u001b[0m         \u001b[0mreturns\u001b[0m \u001b[0;34m=\u001b[0m \u001b[0mreturns\u001b[0m\u001b[0;34m.\u001b[0m\u001b[0mset_index\u001b[0m\u001b[0;34m(\u001b[0m\u001b[0;34m'Date'\u001b[0m\u001b[0;34m)\u001b[0m\u001b[0;34m\u001b[0m\u001b[0;34m\u001b[0m\u001b[0m\n\u001b[1;32m     18\u001b[0m         \u001b[0;32mif\u001b[0m\u001b[0;34m(\u001b[0m\u001b[0mlen\u001b[0m\u001b[0;34m(\u001b[0m\u001b[0mstocks\u001b[0m\u001b[0;34m)\u001b[0m\u001b[0;34m>\u001b[0m\u001b[0;36m1\u001b[0m\u001b[0;34m)\u001b[0m\u001b[0;34m:\u001b[0m\u001b[0;34m\u001b[0m\u001b[0;34m\u001b[0m\u001b[0m\n",
      "\u001b[0;32m<ipython-input-76-19f57cd82a7c>\u001b[0m in \u001b[0;36mcalculate_profit\u001b[0;34m(price, dividend, init_amt, fee, monthly_topup)\u001b[0m\n\u001b[1;32m     83\u001b[0m                             \u001b[0;34m'MA2'\u001b[0m \u001b[0;34m:\u001b[0m  \u001b[0mMA2\u001b[0m\u001b[0;34m\u001b[0m\u001b[0;34m\u001b[0m\u001b[0m\n\u001b[1;32m     84\u001b[0m                            } , ignore_index=True)\n\u001b[0;32m---> 85\u001b[0;31m         \u001b[0;32mif\u001b[0m\u001b[0;34m(\u001b[0m\u001b[0mMA1\u001b[0m\u001b[0;34m<\u001b[0m\u001b[0mMA2\u001b[0m\u001b[0;34m)\u001b[0m\u001b[0;34m:\u001b[0m\u001b[0;34m\u001b[0m\u001b[0;34m\u001b[0m\u001b[0m\n\u001b[0m\u001b[1;32m     86\u001b[0m             \u001b[0mmnthly_topup\u001b[0m \u001b[0;34m=\u001b[0m \u001b[0mmonthly_topup\u001b[0m \u001b[0;34m*\u001b[0m \u001b[0;36m2\u001b[0m\u001b[0;34m\u001b[0m\u001b[0;34m\u001b[0m\u001b[0m\n\u001b[1;32m     87\u001b[0m         \u001b[0;32melse\u001b[0m\u001b[0;34m:\u001b[0m\u001b[0;34m\u001b[0m\u001b[0;34m\u001b[0m\u001b[0m\n",
      "\u001b[0;31mTypeError\u001b[0m: '<' not supported between instances of 'NoneType' and 'NoneType'"
     ]
    }
   ],
   "source": [
    "#plot_stock(\"O39.SI\", datetime(2017,1,1),  datetime(2021,1,1))\n",
    "#cols = ['Spent', 'Gross',  'Dividend', 'Close', 'ClosePct','NetPct']\n",
    "main(\n",
    "    #stocks = [\"O39.SI\", \"D05.SI\", \"U11.SI\"], \n",
    "    stocks = [\"D05.SI\"], \n",
    "     start_date = datetime.now() - timedelta(days=365*5),  \n",
    "     #start_date = datetime(2017,1,1),  \n",
    "     #end_date = datetime(2021,1,1), \n",
    "     #cols = [\"ClosePct\", \"NetPct\",  'Dividend']\n",
    "     cols = ['Net', 'Spent', 'Gross','Cash', 'Share', 'Dividend', 'Close', 'ClosePct','NetPct','MA1', 'MA2']\n",
    "    )\n",
    "\n"
   ]
  },
  {
   "cell_type": "code",
   "execution_count": 67,
   "metadata": {},
   "outputs": [
    {
     "name": "stdout",
     "output_type": "stream",
     "text": [
      "Working on CFA.SI ...\n",
      "Getting price data ...\n",
      "Getting dividend data ...\n",
      "Calculating returns ...\n"
     ]
    },
    {
     "name": "stderr",
     "output_type": "stream",
     "text": [
      "/home/ysj/.local/lib/python3.6/site-packages/ipykernel_launcher.py:47: UserWarning:\n",
      "\n",
      "Boolean Series key will be reindexed to match DataFrame index.\n",
      "\n"
     ]
    },
    {
     "name": "stdout",
     "output_type": "stream",
     "text": [
      "Working on A17U.SI ...\n",
      "Getting price data ...\n",
      "Getting dividend data ...\n",
      "Calculating returns ...\n",
      "Working on BTOU.SI ...\n",
      "Getting price data ...\n",
      "Getting dividend data ...\n",
      "Calculating returns ...\n",
      "Working on BUOU.SI ...\n",
      "Getting price data ...\n",
      "Getting dividend data ...\n",
      "Calculating returns ...\n",
      "Working on RW0U.SI ...\n",
      "Getting price data ...\n",
      "Getting dividend data ...\n",
      "Calculating returns ...\n",
      "Ploting chart ...\n"
     ]
    },
    {
     "data": {
      "application/vnd.jupyter.widget-view+json": {
       "model_id": "6a6a7f7ad2264c5a9da4027bcc37ba04",
       "version_major": 2,
       "version_minor": 0
      },
      "text/plain": [
       "FigureWidget({\n",
       "    'data': [{'name': 'CFA.SI_ClosePct',\n",
       "              'type': 'scattergl',\n",
       "              'uid'…"
      ]
     },
     "metadata": {},
     "output_type": "display_data"
    }
   ],
   "source": [
    "#plot_stock(\"O39.SI\", datetime(2017,1,1),  datetime(2021,1,1))\n",
    "#cols = ['Spent', 'Gross',  'Dividend', 'Close', 'ClosePct','NetPct']\n",
    "main(stocks = [\"CFA.SI\", \"A17U.SI\", \"BTOU.SI\",\"BUOU.SI\",\"RW0U.SI\"], \n",
    "     start_date = datetime.now() - timedelta(days=365*0.75),  \n",
    "     #start_date = datetime(2017,1,1),  \n",
    "     #end_date = datetime(2021,1,1), \n",
    "     cols = [\"ClosePct\", \"NetPct\",  'Dividend']\n",
    "     #cols = ['Spent', 'Gross',  'Dividend', 'Close', 'ClosePct','NetPct']\n",
    "    )\n"
   ]
  },
  {
   "cell_type": "code",
   "execution_count": 16,
   "metadata": {},
   "outputs": [
    {
     "name": "stdout",
     "output_type": "stream",
     "text": [
      "Working on A17U.SI ...\n",
      "Getting price data ...\n",
      "Getting dividend data ...\n",
      "Calculating returns ...\n"
     ]
    },
    {
     "name": "stderr",
     "output_type": "stream",
     "text": [
      "/home/ysj/.local/lib/python3.6/site-packages/ipykernel_launcher.py:47: UserWarning:\n",
      "\n",
      "Boolean Series key will be reindexed to match DataFrame index.\n",
      "\n"
     ]
    },
    {
     "name": "stdout",
     "output_type": "stream",
     "text": [
      "Working on BTOU.SI ...\n",
      "Getting price data ...\n",
      "Getting dividend data ...\n",
      "Calculating returns ...\n",
      "Working on SK6U.SI ...\n",
      "Getting price data ...\n",
      "Getting dividend data ...\n",
      "Calculating returns ...\n",
      "Working on ACV.SI ...\n",
      "Getting price data ...\n",
      "Getting dividend data ...\n",
      "Calculating returns ...\n",
      "Working on AU8U.SI ...\n",
      "Getting price data ...\n",
      "Getting dividend data ...\n",
      "Calculating returns ...\n",
      "Working on BUOU.SI ...\n",
      "Getting price data ...\n",
      "Getting dividend data ...\n",
      "Calculating returns ...\n",
      "Working on RW0U.SI ...\n",
      "Getting price data ...\n",
      "Getting dividend data ...\n",
      "Calculating returns ...\n",
      "Working on O5RU.SI ...\n",
      "Getting price data ...\n",
      "Getting dividend data ...\n",
      "Calculating returns ...\n",
      "Working on T82U.SI ...\n",
      "Getting price data ...\n",
      "Getting dividend data ...\n",
      "Calculating returns ...\n",
      "Working on CRPU.SI ...\n",
      "Getting price data ...\n",
      "Getting dividend data ...\n",
      "Calculating returns ...\n",
      "Working on HMN.SI ...\n",
      "Getting price data ...\n",
      "Getting dividend data ...\n",
      "Calculating returns ...\n",
      "Working on TS0U.SI ...\n",
      "Getting price data ...\n",
      "Getting dividend data ...\n",
      "Calculating returns ...\n",
      "Ploting chart ...\n"
     ]
    },
    {
     "data": {
      "application/vnd.jupyter.widget-view+json": {
       "model_id": "edad473768a84090be0f2aeee0a9c3f1",
       "version_major": 2,
       "version_minor": 0
      },
      "text/plain": [
       "FigureWidget({\n",
       "    'data': [{'name': 'A17U.SI_ClosePct',\n",
       "              'type': 'scattergl',\n",
       "              'uid…"
      ]
     },
     "metadata": {},
     "output_type": "display_data"
    }
   ],
   "source": [
    "'''\n",
    "Frasers L&I Tr (BUOU / FRAE.SI)\tBUOU.SI\n",
    "ManulifeReit USD (BTOU / MANU.SI)\tBTOU.SI\n",
    "Frasers Hospitality Trust Stapled Securities (ACV.SI)\tACV.SI\n",
    "\n",
    "Mapletree NAC Tr (RW0U / MAPE.SI)\tRW0U.SI\n",
    "Ascendas REIT\tA17U.SI\n",
    "SPHREIT (SK6U / SPHR.SI)\tSK6U.SI\n",
    "AIMS APAC REIT (O5RU.SI)\tO5RU.SI\n",
    "CapitaR China Tr (AU8U / CRCT.SI)\tAU8U.SI\n",
    "DBS (D05 / DBSM.SI)\tD05.SI\n",
    "\n",
    "OCBC Bank (O39 / OCBC.SI)\tO39.SI\n",
    "Suntec Reit T82U SUNT.SI\tT82U.SI\n",
    "Sasseur Reit (CRPU / SASS.SI)\tCRPU.SI\n",
    "Ascott Real Estate Investment Trust (HMN.SI)\tHMN.SI\n",
    "OUE Commercial Real Estate Investment Trust (TS0U.SI)\tTS0U.SI\n",
    "'''\n",
    "main(stocks = [\"A17U.SI\", \"BTOU.SI\",\"BUOU.SI\",\"RW0U.SI\", \"SK6U.SI\", \"ACV.SI\", \"AU8U.SI\",\"O5RU.SI\",\"T82U.SI\",\"CRPU.SI\",\"HMN.SI\",\"TS0U.SI\"], \n",
    "     start_date = datetime.now() - timedelta(days=365*5),  \n",
    "     #start_date = datetime(2017,1,1),  \n",
    "     #end_date = datetime(2021,1,1), \n",
    "     cols = [\"ClosePct\", \"NetPct\"]\n",
    "     #cols = ['Spent', 'Gross',  'Dividend', 'Close', 'ClosePct','NetPct']\n",
    "    )\n",
    "\n"
   ]
  },
  {
   "cell_type": "code",
   "execution_count": null,
   "metadata": {},
   "outputs": [],
   "source": []
  },
  {
   "cell_type": "code",
   "execution_count": null,
   "metadata": {},
   "outputs": [],
   "source": []
  },
  {
   "cell_type": "code",
   "execution_count": null,
   "metadata": {},
   "outputs": [],
   "source": []
  },
  {
   "cell_type": "code",
   "execution_count": null,
   "metadata": {},
   "outputs": [],
   "source": []
  }
 ],
 "metadata": {
  "kernelspec": {
   "display_name": "'Python Interactive'",
   "language": "python",
   "name": "05c921b4-1457-4e03-bf2b-0af1aa807ddc"
  },
  "language_info": {
   "codemirror_mode": {
    "name": "ipython",
    "version": 3
   },
   "file_extension": ".py",
   "mimetype": "text/x-python",
   "name": "python",
   "nbconvert_exporter": "python",
   "pygments_lexer": "ipython3",
   "version": "3.6.9"
  }
 },
 "nbformat": 4,
 "nbformat_minor": 2
}
