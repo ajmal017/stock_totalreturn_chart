{
 "cells": [
  {
   "cell_type": "code",
   "execution_count": 32,
   "metadata": {},
   "outputs": [],
   "source": [
    "import pandas as pd\n",
    "from datetime import datetime"
   ]
  },
  {
   "cell_type": "markdown",
   "metadata": {},
   "source": [
    "# Crawl data from yahoo finance"
   ]
  },
  {
   "cell_type": "code",
   "execution_count": 54,
   "metadata": {},
   "outputs": [],
   "source": [
    "def getCrumb(ticker):\n",
    "    URL  = \"https://finance.yahoo.com/quote/%s/history\" % ticker\n",
    "    import requests \n",
    "    import re\n",
    "    r = requests.get(url = URL) \n",
    "    content = str(r.content)\n",
    "    r1 = re.findall(r\"CrumbStore\\\":\\{\\\"crumb\\\":\\\"[A-Za-z0-9.\\\\\\-]+\\\"\",content)[0]\n",
    "    crumb = r1.replace(\"CrumbStore\\\":{\\\"crumb\\\":\\\"\",\"\").replace('\"',\"\")\n",
    "    return crumb,r.cookies\n",
    "\n",
    "\n",
    "def get_data(symbol, data_type, start_date , end_date):\n",
    "    try:\n",
    "        import requests \n",
    "        import re\n",
    "        from io import StringIO\n",
    "        import os\n",
    "        import os.path\n",
    "        \n",
    "        directory = \"data\"\n",
    "        filename = directory+\"/\"+symbol+\"_\"+data_type\n",
    "        if not os.path.exists(directory):\n",
    "            os.makedirs(directory)\n",
    "        \n",
    "        #check cache\n",
    "        last_saved = 86401\n",
    "        if os.path.isfile(filename):\n",
    "            statbuf = os.stat(filename)\n",
    "            last_saved = datetime.now().timestamp() - statbuf.st_mtime\n",
    "             \n",
    "        if(last_saved>(86400)):\n",
    "            #crawl\n",
    "            api_url = \"https://query1.finance.yahoo.com/v7/finance/download/{0}?period1={1}&period2={2}&interval={3}&events={4}&crumb={5}\"\n",
    "            (crumb, cookies)=getCrumb(symbol)\n",
    "            api_url = api_url.format(symbol,0,datetime.now().strftime('%s'),\"1d\", data_type, crumb)\n",
    "            r = requests.get(url = api_url, cookies = cookies.get_dict(\".yahoo.com\"))  \n",
    "            content = str(r.content).replace(\",\",'\",\"').replace(\"\\\\n\",'\"\\r\\n\"').replace(\"b\\'\",\"\").replace(\"'\",\"\")\n",
    "            res = '\"'+content+'\"'\n",
    "            \n",
    "            #save\n",
    "            text_file = open(filename, \"w\")\n",
    "            n = text_file.write(r.content.decode('utf-8'))\n",
    "            text_file.close()\n",
    "        \n",
    "        #load\n",
    "        df = pd.read_csv(filename)\n",
    "        df[\"Date\"]=pd.to_datetime(df['Date'])\n",
    "        df = df[df[\"Date\"]>=start_date][df[\"Date\"]<=end_date]\n",
    "        return df  \n",
    "    except:\n",
    "        print(\"Error getting data\")\n",
    "\n",
    "def get_price_data(stock, start_date, end_date):\n",
    "    print(\"Getting price data ...\")\n",
    "    price = get_data(stock,\"history\", start_date, end_date)\n",
    "    if(price is not None):\n",
    "        price.rename(columns={'Date':'date','Open':'open','High':'high',\n",
    "                              'Low':'low','Close':'close','Adj Close':'adjClose','Volume':'vol'}, inplace=True)\n",
    "        price[\"date\"]=pd.to_datetime(price['date'])\n",
    "        price = price.set_index([\"date\"])\n",
    "        return price\n",
    "def get_dividend_data(stock, start_date, end_date):\n",
    "    print(\"Getting dividend data ...\")\n",
    "    dividend = get_data(stock,\"div\", start_date, end_date)\n",
    "    if(dividend is not None):\n",
    "        dividend.rename(columns={'Date':'date','Dividends':'dividend'}, inplace=True)\n",
    "        dividend[\"date\"]=pd.to_datetime(dividend['date'])\n",
    "        dividend = dividend.set_index([\"date\"])\n",
    "        return dividend"
   ]
  },
  {
   "cell_type": "markdown",
   "metadata": {},
   "source": [
    "# Research"
   ]
  },
  {
   "cell_type": "code",
   "execution_count": 235,
   "metadata": {},
   "outputs": [],
   "source": [
    "stocks = {\n",
    "    \"D05.SI\":\"DBS Group Holdings Ltd\",\n",
    "    \"O39.SI\":\"Oversea-Chinese Banking Corporation Limited\",\n",
    "    \"U11.SI\":\"United Overseas Bank Limited\",\n",
    "    \"K2LU.SI\":\"Cache Log Trust\",\n",
    "    \"J91U.SI\":\"ESR REIT\",\n",
    "    \"C61U.SI\":\"CapitaCom Trust\",\n",
    "    \"C38U.SI\":\"CapitaMall Trust\"\n",
    "}"
   ]
  },
  {
   "cell_type": "code",
   "execution_count": 237,
   "metadata": {},
   "outputs": [
    {
     "name": "stdout",
     "output_type": "stream",
     "text": [
      "Getting price data ...\n"
     ]
    },
    {
     "name": "stderr",
     "output_type": "stream",
     "text": [
      "/home/ysj/.local/lib/python3.6/site-packages/ipykernel_launcher.py:48: UserWarning: Boolean Series key will be reindexed to match DataFrame index.\n"
     ]
    },
    {
     "name": "stdout",
     "output_type": "stream",
     "text": [
      "Getting price data ...\n",
      "Getting price data ...\n",
      "Getting price data ...\n",
      "Error getting data\n"
     ]
    },
    {
     "ename": "AttributeError",
     "evalue": "'NoneType' object has no attribute 'rolling'",
     "output_type": "error",
     "traceback": [
      "\u001b[0;31m---------------------------------------------------------------------------\u001b[0m",
      "\u001b[0;31mAttributeError\u001b[0m                            Traceback (most recent call last)",
      "\u001b[0;32m<ipython-input-237-0f71f0fdc1de>\u001b[0m in \u001b[0;36m<module>\u001b[0;34m\u001b[0m\n\u001b[1;32m      5\u001b[0m     \u001b[0mstock\u001b[0m \u001b[0;34m=\u001b[0m \u001b[0ms\u001b[0m\u001b[0;34m\u001b[0m\u001b[0;34m\u001b[0m\u001b[0m\n\u001b[1;32m      6\u001b[0m     \u001b[0mdf\u001b[0m \u001b[0;34m=\u001b[0m \u001b[0mget_price_data\u001b[0m\u001b[0;34m(\u001b[0m\u001b[0mstock\u001b[0m\u001b[0;34m,\u001b[0m \u001b[0mdatetime\u001b[0m\u001b[0;34m(\u001b[0m\u001b[0;36m2019\u001b[0m\u001b[0;34m,\u001b[0m\u001b[0;36m1\u001b[0m\u001b[0;34m,\u001b[0m\u001b[0;36m1\u001b[0m\u001b[0;34m)\u001b[0m\u001b[0;34m,\u001b[0m\u001b[0mdatetime\u001b[0m\u001b[0;34m(\u001b[0m\u001b[0;36m2020\u001b[0m\u001b[0;34m,\u001b[0m\u001b[0;36m5\u001b[0m\u001b[0;34m,\u001b[0m\u001b[0;36m1\u001b[0m\u001b[0;34m)\u001b[0m\u001b[0;34m)\u001b[0m\u001b[0;34m\u001b[0m\u001b[0;34m\u001b[0m\u001b[0m\n\u001b[0;32m----> 7\u001b[0;31m     \u001b[0mdf\u001b[0m\u001b[0;34m[\u001b[0m\u001b[0;34m'MA20'\u001b[0m\u001b[0;34m]\u001b[0m \u001b[0;34m=\u001b[0m \u001b[0mdf\u001b[0m\u001b[0;34m.\u001b[0m\u001b[0mrolling\u001b[0m\u001b[0;34m(\u001b[0m\u001b[0mwindow\u001b[0m\u001b[0;34m=\u001b[0m\u001b[0;36m20\u001b[0m\u001b[0;34m)\u001b[0m\u001b[0;34m.\u001b[0m\u001b[0mmean\u001b[0m\u001b[0;34m(\u001b[0m\u001b[0;34m)\u001b[0m\u001b[0;34m[\u001b[0m\u001b[0;34m\"close\"\u001b[0m\u001b[0;34m]\u001b[0m\u001b[0;34m\u001b[0m\u001b[0;34m\u001b[0m\u001b[0m\n\u001b[0m\u001b[1;32m      8\u001b[0m     \u001b[0mdf\u001b[0m\u001b[0;34m[\u001b[0m\u001b[0;34m'MA50'\u001b[0m\u001b[0;34m]\u001b[0m \u001b[0;34m=\u001b[0m \u001b[0mdf\u001b[0m\u001b[0;34m.\u001b[0m\u001b[0mrolling\u001b[0m\u001b[0;34m(\u001b[0m\u001b[0mwindow\u001b[0m\u001b[0;34m=\u001b[0m\u001b[0;36m50\u001b[0m\u001b[0;34m)\u001b[0m\u001b[0;34m.\u001b[0m\u001b[0mmean\u001b[0m\u001b[0;34m(\u001b[0m\u001b[0;34m)\u001b[0m\u001b[0;34m[\u001b[0m\u001b[0;34m\"close\"\u001b[0m\u001b[0;34m]\u001b[0m\u001b[0;34m\u001b[0m\u001b[0;34m\u001b[0m\u001b[0m\n\u001b[1;32m      9\u001b[0m     \u001b[0mdf\u001b[0m\u001b[0;34m[\u001b[0m\u001b[0;34m'MA200'\u001b[0m\u001b[0;34m]\u001b[0m \u001b[0;34m=\u001b[0m \u001b[0mdf\u001b[0m\u001b[0;34m.\u001b[0m\u001b[0mrolling\u001b[0m\u001b[0;34m(\u001b[0m\u001b[0mwindow\u001b[0m\u001b[0;34m=\u001b[0m\u001b[0;36m200\u001b[0m\u001b[0;34m)\u001b[0m\u001b[0;34m.\u001b[0m\u001b[0mmean\u001b[0m\u001b[0;34m(\u001b[0m\u001b[0;34m)\u001b[0m\u001b[0;34m[\u001b[0m\u001b[0;34m\"close\"\u001b[0m\u001b[0;34m]\u001b[0m\u001b[0;34m\u001b[0m\u001b[0;34m\u001b[0m\u001b[0m\n",
      "\u001b[0;31mAttributeError\u001b[0m: 'NoneType' object has no attribute 'rolling'"
     ]
    }
   ],
   "source": [
    "#crawl data from yahoo\n",
    "\n",
    "data = None\n",
    "for s in stocks:\n",
    "    stock = s\n",
    "    df = get_price_data(stock, datetime(2019,1,1),datetime(2020,5,1))\n",
    "    df['MA20'] = df.rolling(window=20).mean()[\"close\"]\n",
    "    df['MA50'] = df.rolling(window=50).mean()[\"close\"]\n",
    "    df['MA200'] = df.rolling(window=200).mean()[\"close\"]\n",
    "    period = 30\n",
    "    peak = df[-period:][\"close\"].max()\n",
    "    dip = df[-period:][\"close\"].min()\n",
    "    down = (peak-dip)/peak\n",
    "    up = (peak-dip)/dip\n",
    "    df[\"current%\"] = ((df[\"close\"]-dip)/dip)*100\n",
    "    df[\"MA200%\"] = ((df[\"MA200\"]-dip)/dip)*100\n",
    "    df[\"peak\"] = peak\n",
    "    df[\"peak%\"] = up*100\n",
    "    df[\"dip\"] = dip\n",
    "    df[\"code\"] = stock\n",
    "    df[\"stock\"] = stocks[stock]\n",
    "    df[\"10%\"] = df[\"dip\"]*1.1\n",
    "    df[\"5%\"] = df[\"dip\"]*1.05\n",
    "    df[\"eta_growth_peak%\"] = df[\"peak%\"]-df[\"current%\"]\n",
    "    df[\"eta_growth_MA200%\"] = df[\"MA200%\"]-df[\"current%\"]\n",
    "    res = df[-1:][[\"stock\",\"code\", \"current%\", \"peak%\", \"MA200%\", \n",
    "                   \"eta_growth_peak%\",\"eta_growth_MA200%\",\n",
    "                   \"dip\", \n",
    "                   \"5%\", \"10%\", \"close\"]]\n",
    "    if(data is None):\n",
    "        data = res\n",
    "    else:\n",
    "        None\n",
    "        data= pd.concat([data, res])\n",
    "data"
   ]
  },
  {
   "cell_type": "code",
   "execution_count": null,
   "metadata": {},
   "outputs": [],
   "source": []
  },
  {
   "cell_type": "code",
   "execution_count": null,
   "metadata": {},
   "outputs": [],
   "source": []
  },
  {
   "cell_type": "code",
   "execution_count": null,
   "metadata": {},
   "outputs": [],
   "source": []
  },
  {
   "cell_type": "code",
   "execution_count": null,
   "metadata": {},
   "outputs": [],
   "source": []
  }
 ],
 "metadata": {
  "kernelspec": {
   "display_name": "'Python Interactive'",
   "language": "python",
   "name": "05c921b4-1457-4e03-bf2b-0af1aa807ddc"
  },
  "language_info": {
   "codemirror_mode": {
    "name": "ipython",
    "version": 3
   },
   "file_extension": ".py",
   "mimetype": "text/x-python",
   "name": "python",
   "nbconvert_exporter": "python",
   "pygments_lexer": "ipython3",
   "version": "3.6.9"
  }
 },
 "nbformat": 4,
 "nbformat_minor": 2
}
