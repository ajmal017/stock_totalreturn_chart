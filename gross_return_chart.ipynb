{
 "cells": [
  {
   "cell_type": "code",
   "execution_count": 138,
   "metadata": {},
   "outputs": [],
   "source": [
    "import pandas as pd\n",
    "from datetime import datetime"
   ]
  },
  {
   "cell_type": "markdown",
   "metadata": {},
   "source": [
    "# Crawl data from yahoo finance"
   ]
  },
  {
   "cell_type": "code",
   "execution_count": 139,
   "metadata": {},
   "outputs": [],
   "source": [
    "def getCrumb(ticker):\n",
    "    URL  = \"https://finance.yahoo.com/quote/%s/history\" % ticker\n",
    "    import requests \n",
    "    import re\n",
    "    r = requests.get(url = URL) \n",
    "    content = str(r.content)\n",
    "    r1 = re.findall(r\"CrumbStore\\\":\\{\\\"crumb\\\":\\\"[A-Za-z0-9.\\\\\\-]+\\\"\",content)[0]\n",
    "    crumb = r1.replace(\"CrumbStore\\\":{\\\"crumb\\\":\\\"\",\"\").replace('\"',\"\")\n",
    "    return crumb,r.cookies\n",
    "\n",
    "\n",
    "def get_data(symbol, data_type, start_date , end_date):\n",
    "    import requests \n",
    "    import re\n",
    "    from io import StringIO\n",
    "    import os\n",
    "    import os.path\n",
    "    \n",
    "    directory = \"data\"\n",
    "    filename = directory+\"/\"+symbol+\"_\"+data_type\n",
    "    if not os.path.exists(directory):\n",
    "        os.makedirs(directory)\n",
    "    \n",
    "    #check cache\n",
    "    last_saved = 86401\n",
    "    if os.path.isfile(filename):\n",
    "        statbuf = os.stat(filename)\n",
    "        last_saved = datetime.now().timestamp() - statbuf.st_mtime\n",
    "         \n",
    "    if(last_saved>(86400)):\n",
    "        #crawl\n",
    "        api_url = \"https://query1.finance.yahoo.com/v7/finance/download/{0}?period1={1}&period2={2}&interval={3}&events={4}&crumb={5}\"\n",
    "        (crumb, cookies)=getCrumb(symbol)\n",
    "        api_url = api_url.format(symbol,0,datetime.now().strftime('%s'),\"1d\", data_type, crumb)\n",
    "        r = requests.get(url = api_url, cookies = cookies.get_dict(\".yahoo.com\"))  \n",
    "        content = str(r.content).replace(\",\",'\",\"').replace(\"\\\\n\",'\"\\r\\n\"').replace(\"b\\'\",\"\").replace(\"'\",\"\")\n",
    "        res = '\"'+content+'\"'\n",
    "        \n",
    "        #save\n",
    "        text_file = open(filename, \"w\")\n",
    "        n = text_file.write(r.content.decode('utf-8'))\n",
    "        text_file.close()\n",
    "    \n",
    "    #load\n",
    "    df = pd.read_csv(filename)\n",
    "    df[\"Date\"]=pd.to_datetime(df['Date'])\n",
    "    df = df[df[\"Date\"]>=start_date][df[\"Date\"]<=end_date]\n",
    "    return df  \n",
    "\n",
    "def get_price_data(stock, start_date, end_date):\n",
    "    print(\"Getting price data ...\")\n",
    "    price = get_data(stock,\"history\", start_date, end_date)\n",
    "    price.rename(columns={'Date':'date','Open':'open','High':'high',\n",
    "                          'Low':'low','Close':'close','Adj Close':'adjClose','Volume':'vol'}, inplace=True)\n",
    "    price[\"date\"]=pd.to_datetime(price['date'])\n",
    "    price = price.set_index([\"date\"])\n",
    "    return price\n",
    "def get_dividend_data(stock, start_date, end_date):\n",
    "    print(\"Getting dividend data ...\")\n",
    "    dividend = get_data(stock,\"div\", start_date, end_date)\n",
    "    dividend.rename(columns={'Date':'date','Dividends':'dividend'}, inplace=True)\n",
    "    dividend[\"date\"]=pd.to_datetime(dividend['date'])\n",
    "    dividend = dividend.set_index([\"date\"])\n",
    "    return dividend"
   ]
  },
  {
   "cell_type": "markdown",
   "metadata": {},
   "source": [
    "# Calculate returns"
   ]
  },
  {
   "cell_type": "code",
   "execution_count": 149,
   "metadata": {},
   "outputs": [],
   "source": [
    "from datetime import timedelta, date\n",
    "def calculate_profit(price, dividend, init_amt = 10000, fee = 0, monthly_topup = 0):\n",
    "    print(\"Calculating returns ...\")\n",
    "    data = pd.DataFrame([]) \n",
    "    price = price.dropna()\n",
    "    dividend = dividend.dropna()\n",
    "    init_close = -1\n",
    "    total_spend = init_amt\n",
    "    amount = init_amt\n",
    "    shares = 0\n",
    "    curDate = price.index.min()\n",
    "    last_close = 0\n",
    "    last_open = 0\n",
    "    pre_date = None\n",
    "    while True:\n",
    "        curDiv = 0\n",
    "        if(curDate in price.index):\n",
    "            if(pre_date is not None and pre_date.month != curDate.month):\n",
    "                amount = amount + monthly_topup\n",
    "                total_spend = total_spend + monthly_topup\n",
    "            pre_date = curDate\n",
    "            curRec = price.loc[[curDate]]\n",
    "            curOpen = float(curRec[\"open\"].values[0])\n",
    "            curClose = float(curRec[\"close\"].values[0])\n",
    "            last_open = curOpen\n",
    "            last_close = curClose\n",
    "            if(init_close==-1):\n",
    "                init_close = last_close\n",
    "            if(amount>0):\n",
    "                #buy shares\n",
    "                share_can_buy = (int)(amount/(curOpen*(1+fee)))\n",
    "                amount = amount - share_can_buy*(curOpen*(1+fee))\n",
    "                shares = shares + share_can_buy\n",
    "        if(curDate in dividend.index):\n",
    "            curDiv = dividend.loc[[curDate]][\"dividend\"].values[0]\n",
    "            amount = amount + (shares*float(curDiv))\n",
    "        if(curDate == price.index.max()):\n",
    "            break\n",
    "        gross = shares*curClose + amount\n",
    "        data = data.append({'Date' : curDate ,\n",
    "                            'Spent': round(total_spend,2),\n",
    "                            'Gross' : round(gross,2),\n",
    "                            'Dividend': curDiv,\n",
    "                            'Close': curClose,\n",
    "                            'ClosePct': round(((curClose-init_close)/init_close)*100,2),\n",
    "                            'NetPct' :  round(((gross-total_spend)/total_spend)*100,2),\n",
    "                           } , ignore_index=True)\n",
    "        curDate = curDate + timedelta(days=1)\n",
    "    return data"
   ]
  },
  {
   "cell_type": "markdown",
   "metadata": {},
   "source": [
    "# Plot line chart"
   ]
  },
  {
   "cell_type": "code",
   "execution_count": 185,
   "metadata": {},
   "outputs": [],
   "source": [
    "def plot_chart(data, height, width):\n",
    "    print(\"Ploting chart ...\")\n",
    "    import plotly.graph_objs as go \n",
    "    from datetime import datetime\n",
    "    from ipywidgets import interact, interactive, fixed, interact_manual\n",
    "    import ipywidgets as widgets\n",
    "    from plotly.subplots import make_subplots\n",
    "    df = data\n",
    "    df = df.sort_index(ascending=True)\n",
    "    fig = go.FigureWidget(make_subplots(rows=1, specs=[[{\"secondary_y\": True}]]))\n",
    "    \n",
    "    \n",
    "    \n",
    "    for col in data.columns:\n",
    "        if(\"Dividend\" in col):\n",
    "            fig.add_trace(\n",
    "                go.Scattergl(x=list(df[df[col]>0].index), y=list(df[df[col]>0][col]),\n",
    "                name = col, marker=dict(color=\"green\", size=2), line = dict(color='grey', width=1, dash='dash')),\n",
    "                row=1, col=1,\n",
    "                secondary_y=True\n",
    "            )\n",
    "        else:\n",
    "            fig.add_trace(\n",
    "                go.Scattergl(x=list(df.index), y=list(df[col]),\n",
    "                name = col),\n",
    "                row=1, col=1\n",
    "            )\n",
    "            \n",
    "    \n",
    "    df[\"const\"] = 0\n",
    "    \n",
    "    fig.add_trace(\n",
    "            go.Scattergl(x=list(df.index), y=list(df[\"const\"]), line = dict(color='grey', width=1, dash='dash'),\n",
    "            name = \"zero\"),\n",
    "            row=1, col=1\n",
    "    )\n",
    "    fig.layout.xaxis=dict(\n",
    "            anchor='x',\n",
    "            rangeselector=dict(\n",
    "                buttons=list([\n",
    "                    dict(count=1,\n",
    "                         label='1m',\n",
    "                         step='month',\n",
    "                         stepmode='backward'),\n",
    "                    dict(count=6,\n",
    "                         label='6m',\n",
    "                         step='month',\n",
    "                         stepmode='backward'),\n",
    "                    dict(count=1,\n",
    "                        label='YTD',\n",
    "                        step='year',\n",
    "                        stepmode='todate'),\n",
    "                    dict(count=1,\n",
    "                        label='1y',\n",
    "                        step='year',\n",
    "                        stepmode='backward'),\n",
    "                    dict(step='all')\n",
    "                ])\n",
    "            ),\n",
    "            type='date'\n",
    "        )\n",
    "    fig['layout'].update(height=height, width=width) \n",
    "    return fig"
   ]
  },
  {
   "cell_type": "code",
   "execution_count": 201,
   "metadata": {},
   "outputs": [],
   "source": [
    "def main(stocks, start_date = datetime.now() - timedelta(days=365*3), end_date = datetime.now(),\n",
    "              cols = ['Spent', 'Gross',  'Dividend', 'Close', 'ClosePct','NetPct']):\n",
    "    data = None\n",
    "    columns = []\n",
    "    for stock in stocks:\n",
    "        print(\"Working on {0} ...\".format(stock))\n",
    "        if(len(stocks)>1):\n",
    "            for col in cols:\n",
    "                columns.append(stock+'_'+col)\n",
    "        \n",
    "        init_amt = 10000\n",
    "        fee = 0.01  #1%\n",
    "        monthly_topup = 0\n",
    "        price_data = get_price_data(stock, start_date, end_date)\n",
    "        dividend_data = get_dividend_data(stock, start_date, end_date)\n",
    "        returns = calculate_profit(price_data, dividend_data, init_amt, fee, monthly_topup)\n",
    "        returns = returns.set_index('Date')\n",
    "        if(len(stocks)>1):\n",
    "            returns = returns.add_prefix(stock+'_')\n",
    "        if(data is None):\n",
    "            data = returns\n",
    "        else:\n",
    "            data = data.join(returns)\n",
    "    if(len(stocks)==1):\n",
    "        columns = cols\n",
    "    return plot_chart(data[columns], 500, 900)"
   ]
  },
  {
   "cell_type": "code",
   "execution_count": 206,
   "metadata": {
    "scrolled": false
   },
   "outputs": [
    {
     "name": "stdout",
     "output_type": "stream",
     "text": [
      "Working on O39.SI ...\n",
      "Getting price data ...\n",
      "Getting dividend data ...\n",
      "Calculating returns ...\n"
     ]
    },
    {
     "name": "stderr",
     "output_type": "stream",
     "text": [
      "/home/ysj/.local/lib/python3.6/site-packages/ipykernel_launcher.py:47: UserWarning:\n",
      "\n",
      "Boolean Series key will be reindexed to match DataFrame index.\n",
      "\n"
     ]
    },
    {
     "name": "stdout",
     "output_type": "stream",
     "text": [
      "Working on D05.SI ...\n",
      "Getting price data ...\n",
      "Getting dividend data ...\n",
      "Calculating returns ...\n",
      "Working on U11.SI ...\n",
      "Getting price data ...\n",
      "Getting dividend data ...\n",
      "Calculating returns ...\n",
      "Ploting chart ...\n"
     ]
    },
    {
     "data": {
      "application/vnd.jupyter.widget-view+json": {
       "model_id": "47a3715e73444f269d62eb8070e1c992",
       "version_major": 2,
       "version_minor": 0
      },
      "text/plain": [
       "FigureWidget({\n",
       "    'data': [{'name': 'O39.SI_ClosePct',\n",
       "              'type': 'scattergl',\n",
       "              'uid'…"
      ]
     },
     "metadata": {},
     "output_type": "display_data"
    }
   ],
   "source": [
    "#plot_stock(\"O39.SI\", datetime(2017,1,1),  datetime(2021,1,1))\n",
    "#cols = ['Spent', 'Gross',  'Dividend', 'Close', 'ClosePct','NetPct']\n",
    "main(stocks = [\"O39.SI\", \"D05.SI\", \"U11.SI\"], \n",
    "     start_date = datetime.now() - timedelta(days=365*2),  \n",
    "     #start_date = datetime(2017,1,1),  \n",
    "     #end_date = datetime(2021,1,1), \n",
    "     cols = [\"ClosePct\", \"NetPct\"]\n",
    "     #cols = ['Spent', 'Gross',  'Dividend', 'Close', 'ClosePct','NetPct']\n",
    "    )\n",
    "\n"
   ]
  },
  {
   "cell_type": "code",
   "execution_count": null,
   "metadata": {},
   "outputs": [
    {
     "name": "stdout",
     "output_type": "stream",
     "text": [
      "Working on A17U.SI ...\n",
      "Getting price data ...\n",
      "Getting dividend data ...\n",
      "Calculating returns ...\n"
     ]
    },
    {
     "name": "stderr",
     "output_type": "stream",
     "text": [
      "/home/ysj/.local/lib/python3.6/site-packages/ipykernel_launcher.py:47: UserWarning:\n",
      "\n",
      "Boolean Series key will be reindexed to match DataFrame index.\n",
      "\n"
     ]
    },
    {
     "name": "stdout",
     "output_type": "stream",
     "text": [
      "Working on BTOU.SI ...\n",
      "Getting price data ...\n",
      "Getting dividend data ...\n",
      "Calculating returns ...\n",
      "Working on SK6U.SI ...\n",
      "Getting price data ...\n",
      "Getting dividend data ...\n",
      "Calculating returns ...\n",
      "Working on ACV.SI ...\n",
      "Getting price data ...\n",
      "Getting dividend data ...\n",
      "Calculating returns ...\n",
      "Working on AU8U.SI ...\n",
      "Getting price data ...\n",
      "Getting dividend data ...\n",
      "Calculating returns ...\n"
     ]
    }
   ],
   "source": [
    "'''\n",
    "Frasers L&I Tr (BUOU / FRAE.SI)\tBUOU.SI\n",
    "ManulifeReit USD (BTOU / MANU.SI)\tBTOU.SI\n",
    "Frasers Hospitality Trust Stapled Securities (ACV.SI)\tACV.SI\n",
    "\n",
    "Mapletree NAC Tr (RW0U / MAPE.SI)\tRW0U.SI\n",
    "Ascendas REIT\tA17U.SI\n",
    "SPHREIT (SK6U / SPHR.SI)\tSK6U.SI\n",
    "AIMS APAC REIT (O5RU.SI)\tO5RU.SI\n",
    "CapitaR China Tr (AU8U / CRCT.SI)\tAU8U.SI\n",
    "DBS (D05 / DBSM.SI)\tD05.SI\n",
    "\n",
    "OCBC Bank (O39 / OCBC.SI)\tO39.SI\n",
    "Suntec Reit T82U SUNT.SI\tT82U.SI\n",
    "Sasseur Reit (CRPU / SASS.SI)\tCRPU.SI\n",
    "Ascott Real Estate Investment Trust (HMN.SI)\tHMN.SI\n",
    "OUE Commercial Real Estate Investment Trust (TS0U.SI)\tTS0U.SI\n",
    "'''\n",
    "main(stocks = [\"A17U.SI\", \"BTOU.SI\", \"SK6U.SI\", \"ACV.SI\", \"AU8U.SI\",\"BUOU.SI\",\"RW0U.SI\",\"O5RU.SI\",\"T82U.SI\",\"CRPU.SI\",\"HMN.SI\",\"TS0U.SI\"], \n",
    "     start_date = datetime.now() - timedelta(days=365*5),  \n",
    "     #start_date = datetime(2017,1,1),  \n",
    "     #end_date = datetime(2021,1,1), \n",
    "     cols = [\"ClosePct\", \"NetPct\"]\n",
    "     #cols = ['Spent', 'Gross',  'Dividend', 'Close', 'ClosePct','NetPct']\n",
    "    )\n",
    "\n"
   ]
  },
  {
   "cell_type": "code",
   "execution_count": null,
   "metadata": {},
   "outputs": [],
   "source": []
  },
  {
   "cell_type": "code",
   "execution_count": null,
   "metadata": {},
   "outputs": [],
   "source": []
  },
  {
   "cell_type": "code",
   "execution_count": null,
   "metadata": {},
   "outputs": [],
   "source": []
  },
  {
   "cell_type": "code",
   "execution_count": null,
   "metadata": {},
   "outputs": [],
   "source": []
  }
 ],
 "metadata": {
  "kernelspec": {
   "display_name": "'Python Interactive'",
   "language": "python",
   "name": "05c921b4-1457-4e03-bf2b-0af1aa807ddc"
  },
  "language_info": {
   "codemirror_mode": {
    "name": "ipython",
    "version": 3
   },
   "file_extension": ".py",
   "mimetype": "text/x-python",
   "name": "python",
   "nbconvert_exporter": "python",
   "pygments_lexer": "ipython3",
   "version": "3.6.9"
  }
 },
 "nbformat": 4,
 "nbformat_minor": 2
}
