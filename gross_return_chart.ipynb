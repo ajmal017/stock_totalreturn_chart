{
 "cells": [
  {
   "cell_type": "code",
   "execution_count": 36,
   "metadata": {},
   "outputs": [],
   "source": [
    "import pandas as pd\n",
    "from datetime import datetime\n"
   ]
  },
  {
   "cell_type": "markdown",
   "metadata": {},
   "source": [
    "# Crawl data from yahoo finance"
   ]
  },
  {
   "cell_type": "code",
   "execution_count": 37,
   "metadata": {},
   "outputs": [],
   "source": [
    "\n",
    "\n",
    "def getCrumb(ticker):\n",
    "    URL  = \"https://finance.yahoo.com/quote/%s/history\" % ticker\n",
    "    import requests \n",
    "    import re\n",
    "    r = requests.get(url = URL) \n",
    "    content = str(r.content)\n",
    "    r1 = re.findall(r\"CrumbStore\\\":\\{\\\"crumb\\\":\\\"[A-Za-z0-9.\\\\\\-]+\\\"\",content)[0]\n",
    "    crumb = r1.replace(\"CrumbStore\\\":{\\\"crumb\\\":\\\"\",\"\").replace('\"',\"\")\n",
    "    return crumb,r.cookies\n",
    "\n",
    "def get_data(data_type, symbol, start_date, end_date):\n",
    "    import requests \n",
    "    import re\n",
    "    from io import StringIO\n",
    "    api_url = \"https://query1.finance.yahoo.com/v7/finance/download/{0}?period1={1}&period2={2}&interval={3}&events={4}&crumb={5}\"\n",
    "    (crumb, cookies)=getCrumb(symbol)\n",
    "    api_url = api_url.format(symbol,start_date,end_date,\"1d\", data_type, crumb)\n",
    "    r = requests.get(url = api_url, cookies = cookies.get_dict(\".yahoo.com\"))  \n",
    "    content = str(r.content).replace(\",\",'\",\"').replace(\"\\\\n\",'\"\\r\\n\"').replace(\"b\\'\",\"\").replace(\"'\",\"\")\n",
    "    res = '\"'+content+'\"'\n",
    "    df = pd.read_csv(StringIO(res), sep=\",\",engine='python')\n",
    "    return df\n",
    "\n",
    "def get_price_data(stock, start_date, end_date):\n",
    "    print(\"Getting price data ...\")\n",
    "    price = get_data(\"history\", stock, start_date, end_date)\n",
    "    price.rename(columns={'Date':'date','Open':'open','High':'high',\n",
    "                          'Low':'low','Close':'close','Adj Close':'adjClose','Volume':'vol'}, inplace=True)\n",
    "    price[\"date\"]=pd.to_datetime(price['date'])\n",
    "    price = price.set_index([\"date\"])\n",
    "    return price\n",
    "def get_dividend_data(stock, start_date, end_date):\n",
    "    print(\"Getting dividend data ...\")\n",
    "    dividend = get_data(\"div\", stock, start_date, end_date)\n",
    "    dividend.rename(columns={'Date':'date','Dividends':'dividend'}, inplace=True)\n",
    "    dividend[\"date\"]=pd.to_datetime(dividend['date'])\n",
    "    dividend = dividend.set_index([\"date\"])\n",
    "    return dividend"
   ]
  },
  {
   "cell_type": "markdown",
   "metadata": {},
   "source": [
    "# Calculate returns"
   ]
  },
  {
   "cell_type": "code",
   "execution_count": 111,
   "metadata": {},
   "outputs": [],
   "source": [
    "\n",
    "def calculate_profit(price, dividend, init_amt = 10000, fee = 0, monthly_topup = 0):\n",
    "    print(\"Calculating returns ...\")\n",
    "    from datetime import timedelta, date\n",
    "    data = pd.DataFrame([]) \n",
    "    init_close = -1\n",
    "    total_spend = init_amt\n",
    "    amount = init_amt\n",
    "    shares = 0\n",
    "    curDate = price.index.min()\n",
    "    last_close = 0\n",
    "    last_open = 0\n",
    "    pre_date = None\n",
    "    while True:\n",
    "        curDiv = 0\n",
    "        if(curDate in price.index):\n",
    "            if(pre_date is not None and pre_date.month != curDate.month):\n",
    "                amount = amount + monthly_topup\n",
    "                total_spend = total_spend + monthly_topup\n",
    "            pre_date = curDate\n",
    "            curRec = price.loc[[curDate]]\n",
    "            curOpen = float(curRec[\"open\"].values[0])\n",
    "            curClose = float(curRec[\"close\"].values[0])\n",
    "            last_open = curOpen\n",
    "            last_close = curClose\n",
    "            if(init_close==-1):\n",
    "                init_close = last_close\n",
    "            if(amount>0):\n",
    "                #buy shares\n",
    "                share_can_buy = (int)(amount/(curOpen*(1+fee)))\n",
    "                amount = amount - share_can_buy*(curOpen*(1+fee))\n",
    "                shares = shares + share_can_buy\n",
    "        if(curDate in dividend.index):\n",
    "            curDiv = dividend.loc[[curDate]][\"dividend\"].values[0]\n",
    "            amount = amount + (shares*float(curDiv))\n",
    "        if(curDate == price.index.max()):\n",
    "            break\n",
    "        gross = shares*curClose + amount\n",
    "        data = data.append({'Date' : curDate ,\n",
    "                            'Spent': round(total_spend,2),\n",
    "                            'Gross' : round(gross,2),\n",
    "                            'Dividend': curDiv,\n",
    "                            'Close': curClose,\n",
    "                            'ClosePct': round(((curClose-init_close)/init_close)*100,2),\n",
    "                            'NetPct' :  round(((gross-total_spend)/total_spend)*100,2),\n",
    "                           } , ignore_index=True)\n",
    "        curDate = curDate + timedelta(days=1)\n",
    "    return data"
   ]
  },
  {
   "cell_type": "markdown",
   "metadata": {},
   "source": [
    "# Plot line chart"
   ]
  },
  {
   "cell_type": "code",
   "execution_count": 130,
   "metadata": {},
   "outputs": [],
   "source": [
    "def plot_chart(data, height, width, cols = []):\n",
    "    print(\"Ploting chart ...\")\n",
    "    import plotly.graph_objs as go \n",
    "    from datetime import datetime\n",
    "    from ipywidgets import interact, interactive, fixed, interact_manual\n",
    "    import ipywidgets as widgets\n",
    "    from plotly.subplots import make_subplots\n",
    "    \n",
    "    df = data.set_index('Date')\n",
    "    df = df.sort_index(ascending=True)\n",
    "    fig = go.FigureWidget(make_subplots(rows=1, specs=[[{\"secondary_y\": True}]]))\n",
    "    \n",
    "    \n",
    "    for col in cols:\n",
    "        if(col == \"Dividend\"):\n",
    "            fig.add_trace(\n",
    "                go.Scattergl(x=list(df[df[\"Dividend\"]>0].index), y=list(df[df[\"Dividend\"]>0][col]),\n",
    "                name = col, marker=dict(color=\"green\", size=2), line = dict(color='grey', width=1, dash='dash')),\n",
    "                row=1, col=1,\n",
    "                secondary_y=True\n",
    "            )\n",
    "        else:\n",
    "            fig.add_trace(\n",
    "                go.Scattergl(x=list(df.index), y=list(df[col]),\n",
    "                name = col),\n",
    "                row=1, col=1\n",
    "            )\n",
    "            \n",
    "    \n",
    "    df[\"const\"] = 0\n",
    "    \n",
    "    fig.add_trace(\n",
    "            go.Scattergl(x=list(df.index), y=list(df[\"const\"]), line = dict(color='grey', width=1, dash='dash'),\n",
    "            name = \"zero\"),\n",
    "            row=1, col=1\n",
    "    )\n",
    "    fig.layout.xaxis=dict(\n",
    "            anchor='x',\n",
    "            rangeselector=dict(\n",
    "                buttons=list([\n",
    "                    dict(count=1,\n",
    "                         label='1m',\n",
    "                         step='month',\n",
    "                         stepmode='backward'),\n",
    "                    dict(count=6,\n",
    "                         label='6m',\n",
    "                         step='month',\n",
    "                         stepmode='backward'),\n",
    "                    dict(count=1,\n",
    "                        label='YTD',\n",
    "                        step='year',\n",
    "                        stepmode='todate'),\n",
    "                    dict(count=1,\n",
    "                        label='1y',\n",
    "                        step='year',\n",
    "                        stepmode='backward'),\n",
    "                    dict(step='all')\n",
    "                ])\n",
    "            ),\n",
    "            type='date'\n",
    "        )\n",
    "    fig['layout'].update(height=height, width=width) \n",
    "    return fig"
   ]
  },
  {
   "cell_type": "code",
   "execution_count": 133,
   "metadata": {},
   "outputs": [
    {
     "name": "stdout",
     "output_type": "stream",
     "text": [
      "Getting price data ...\n",
      "Getting dividend data ...\n",
      "Calculating returns ...\n"
     ]
    }
   ],
   "source": [
    "start_date = datetime(2017,4,1).strftime('%s')\n",
    "end_date = datetime(2020,4,1).strftime('%s')\n",
    "stock = \"G3B.SI\"\n",
    "init_amt = 10000\n",
    "fee = 0.01  #1%\n",
    "monthly_topup = 0\n",
    "price_data = get_price_data(stock, start_date, end_date)\n",
    "dividend_data = get_dividend_data(stock, start_date, end_date)\n",
    "returns = calculate_profit(price_data, dividend_data, init_amt, fee, monthly_topup)"
   ]
  },
  {
   "cell_type": "code",
   "execution_count": 134,
   "metadata": {
    "scrolled": false
   },
   "outputs": [
    {
     "name": "stdout",
     "output_type": "stream",
     "text": [
      "Ploting chart ...\n"
     ]
    },
    {
     "data": {
      "application/vnd.jupyter.widget-view+json": {
       "model_id": "693d6a1f018a4baabbd18f2d321d433f",
       "version_major": 2,
       "version_minor": 0
      },
      "text/plain": [
       "FigureWidget({\n",
       "    'data': [{'name': 'Spent',\n",
       "              'type': 'scattergl',\n",
       "              'uid': 'e38f158…"
      ]
     },
     "metadata": {},
     "output_type": "display_data"
    }
   ],
   "source": [
    "\n",
    "plot_chart(returns, 500, 900, ['Spent', 'Gross',  'Dividend', 'Close', 'ClosePct','NetPct'])"
   ]
  },
  {
   "cell_type": "code",
   "execution_count": null,
   "metadata": {},
   "outputs": [],
   "source": []
  },
  {
   "cell_type": "code",
   "execution_count": null,
   "metadata": {},
   "outputs": [],
   "source": []
  },
  {
   "cell_type": "code",
   "execution_count": null,
   "metadata": {},
   "outputs": [],
   "source": []
  }
 ],
 "metadata": {
  "kernelspec": {
   "display_name": "'Python Interactive'",
   "language": "python",
   "name": "05c921b4-1457-4e03-bf2b-0af1aa807ddc"
  }
 },
 "nbformat": 4,
 "nbformat_minor": 2
}
